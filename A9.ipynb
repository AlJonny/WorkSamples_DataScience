{
 "cells": [
  {
   "cell_type": "markdown",
   "id": "7398da4e-d363-4ebd-807f-026d54a234c0",
   "metadata": {},
   "source": [
    "## Alex Johnson | Assignment 9--IMT 574 | 03.05.23\n",
    "\n",
    "#### For this assignment, we are going to use the Steel Plates Faults Dataset\n",
    "\n",
    "#### Dependent Variables\n",
    "\n",
    "| Attribute No. | Attribute    |                \n",
    "| --------------| -------------|\n",
    "| 1             | Pastry       |\n",
    "| 2             | Z_Scratch    |\n",
    "| 3             | K_Scratch    |\n",
    "| 4             | Stains       | \n",
    "| 5             | Dirtiness    | \n",
    "| 6             | Bumps        | \n",
    "| 7             | Other_Faults |\n",
    "\n",
    "#### Independent Variables\n",
    "\n",
    "| Attribute No. | Attribute                          |                \n",
    "| --------------| -----------------------------------|\n",
    "| 1             | X_Minimum                          |\n",
    "| 2             | X_Maximum                          |\n",
    "| 3             | Y_Minimum                          |\n",
    "| 4             | Y_Maximum                          | \n",
    "| 5             | Pixels_Areas                       | \n",
    "| 6             | X_Perimeter                        | \n",
    "| 7             | Y_Perimeter                        | \n",
    "| 8             | Sum_of_Luminosity                  |                         \n",
    "| 9             | Minimum_of_Luminosity              |            \n",
    "| 10            | Maximum_of_Luminosity              |\n",
    "| 11            | Length_of_Conveyer                 |\n",
    "| 12            | TypeOfSteel_A300                   |\n",
    "| 13            | TypeOfSteel_A400 27 SigmoidOfAreas |\n",
    "| 14            | Steel_Plate_Thickness              |\n",
    "| 15            | Edges_Index                        |\n",
    "| 16            | Empty_Index                        |\n",
    "| 17            | Square_Index                       |\n",
    "| 18            | Outside_X_Index                    |\n",
    "| 19            | Edges_X_Index                      |\n",
    "| 20            | Edges_Y_Index                      |\n",
    "| 21            | Outside_Global_Index               |\n",
    "| 22            | LogOfAreas                         |\n",
    "| 23            | Log_X_Index                        |\n",
    "| 24            | Log_Y_Index                        |\n",
    "| 25            | Orientation_Index                  |\n",
    "| 26            | Luminosity_Index                   |\n",
    "\n",
    "### Objectives:\n",
    "1. For this exercise use a neural network and see how well you could predict the type of faults in steel plates from numeric attributes only.\n",
    "2. Note: To save time and energy use the hidden layer numbers and number of nodes in hidden layers that your computer can handle.         "
   ]
  },
  {
   "cell_type": "code",
   "execution_count": 1,
   "id": "d92b3396-0da6-4506-b3dd-270aa7a13726",
   "metadata": {},
   "outputs": [
    {
     "name": "stderr",
     "output_type": "stream",
     "text": [
      "2023-04-21 11:30:48.212207: I tensorflow/core/platform/cpu_feature_guard.cc:193] This TensorFlow binary is optimized with oneAPI Deep Neural Network Library (oneDNN) to use the following CPU instructions in performance-critical operations:  SSE4.1 SSE4.2\n",
      "To enable them in other operations, rebuild TensorFlow with the appropriate compiler flags.\n"
     ]
    }
   ],
   "source": [
    "# load libraries\n",
    "import matplotlib.pyplot as plt\n",
    "%matplotlib inline\n",
    "import numpy as np\n",
    "import pandas as pd\n",
    "from pandas import read_csv, set_option\n",
    "from pandas.plotting import scatter_matrix\n",
    "import seaborn as sns\n",
    "import sklearn\n",
    "from sklearn.model_selection import train_test_split\n",
    "from sklearn.preprocessing import StandardScaler\n",
    "from sklearn.metrics import accuracy_score, precision_score, recall_score, f1_score\n",
    "import tensorflow as tf\n",
    "import keras\n",
    "from keras.models import Sequential\n",
    "from keras.layers import Dense\n"
   ]
  },
  {
   "cell_type": "code",
   "execution_count": 2,
   "id": "19332475-a83d-4b0a-b6bd-92909f1caeea",
   "metadata": {},
   "outputs": [
    {
     "data": {
      "text/html": [
       "<div>\n",
       "<style scoped>\n",
       "    .dataframe tbody tr th:only-of-type {\n",
       "        vertical-align: middle;\n",
       "    }\n",
       "\n",
       "    .dataframe tbody tr th {\n",
       "        vertical-align: top;\n",
       "    }\n",
       "\n",
       "    .dataframe thead th {\n",
       "        text-align: right;\n",
       "    }\n",
       "</style>\n",
       "<table border=\"1\" class=\"dataframe\">\n",
       "  <thead>\n",
       "    <tr style=\"text-align: right;\">\n",
       "      <th></th>\n",
       "      <th>X_Minimum</th>\n",
       "      <th>X_Maximum</th>\n",
       "      <th>Y_Minimum</th>\n",
       "      <th>Y_Maximum</th>\n",
       "      <th>Pixels_Areas</th>\n",
       "      <th>X_Perimeter</th>\n",
       "      <th>Y_Perimeter</th>\n",
       "      <th>Sum_of_Luminosity</th>\n",
       "      <th>Minimum_of_Luminosity</th>\n",
       "      <th>Maximum_of_Luminosity</th>\n",
       "      <th>...</th>\n",
       "      <th>Log_Y_Index</th>\n",
       "      <th>Orientation_Index</th>\n",
       "      <th>Luminosity_Index</th>\n",
       "      <th>Pastry</th>\n",
       "      <th>Z_Scratch</th>\n",
       "      <th>K_Scratch</th>\n",
       "      <th>Stains</th>\n",
       "      <th>Dirtiness</th>\n",
       "      <th>Bumps</th>\n",
       "      <th>Other_Faults</th>\n",
       "    </tr>\n",
       "  </thead>\n",
       "  <tbody>\n",
       "    <tr>\n",
       "      <th>0</th>\n",
       "      <td>42</td>\n",
       "      <td>50</td>\n",
       "      <td>270900</td>\n",
       "      <td>270944</td>\n",
       "      <td>267</td>\n",
       "      <td>17</td>\n",
       "      <td>44</td>\n",
       "      <td>24220</td>\n",
       "      <td>76</td>\n",
       "      <td>108</td>\n",
       "      <td>...</td>\n",
       "      <td>0.8182</td>\n",
       "      <td>-0.2913</td>\n",
       "      <td>0.5822</td>\n",
       "      <td>1</td>\n",
       "      <td>0</td>\n",
       "      <td>0</td>\n",
       "      <td>0</td>\n",
       "      <td>0</td>\n",
       "      <td>0</td>\n",
       "      <td>0</td>\n",
       "    </tr>\n",
       "    <tr>\n",
       "      <th>1</th>\n",
       "      <td>645</td>\n",
       "      <td>651</td>\n",
       "      <td>2538079</td>\n",
       "      <td>2538108</td>\n",
       "      <td>108</td>\n",
       "      <td>10</td>\n",
       "      <td>30</td>\n",
       "      <td>11397</td>\n",
       "      <td>84</td>\n",
       "      <td>123</td>\n",
       "      <td>...</td>\n",
       "      <td>0.7931</td>\n",
       "      <td>-0.1756</td>\n",
       "      <td>0.2984</td>\n",
       "      <td>1</td>\n",
       "      <td>0</td>\n",
       "      <td>0</td>\n",
       "      <td>0</td>\n",
       "      <td>0</td>\n",
       "      <td>0</td>\n",
       "      <td>0</td>\n",
       "    </tr>\n",
       "    <tr>\n",
       "      <th>2</th>\n",
       "      <td>829</td>\n",
       "      <td>835</td>\n",
       "      <td>1553913</td>\n",
       "      <td>1553931</td>\n",
       "      <td>71</td>\n",
       "      <td>8</td>\n",
       "      <td>19</td>\n",
       "      <td>7972</td>\n",
       "      <td>99</td>\n",
       "      <td>125</td>\n",
       "      <td>...</td>\n",
       "      <td>0.6667</td>\n",
       "      <td>-0.1228</td>\n",
       "      <td>0.2150</td>\n",
       "      <td>1</td>\n",
       "      <td>0</td>\n",
       "      <td>0</td>\n",
       "      <td>0</td>\n",
       "      <td>0</td>\n",
       "      <td>0</td>\n",
       "      <td>0</td>\n",
       "    </tr>\n",
       "    <tr>\n",
       "      <th>3</th>\n",
       "      <td>853</td>\n",
       "      <td>860</td>\n",
       "      <td>369370</td>\n",
       "      <td>369415</td>\n",
       "      <td>176</td>\n",
       "      <td>13</td>\n",
       "      <td>45</td>\n",
       "      <td>18996</td>\n",
       "      <td>99</td>\n",
       "      <td>126</td>\n",
       "      <td>...</td>\n",
       "      <td>0.8444</td>\n",
       "      <td>-0.1568</td>\n",
       "      <td>0.5212</td>\n",
       "      <td>1</td>\n",
       "      <td>0</td>\n",
       "      <td>0</td>\n",
       "      <td>0</td>\n",
       "      <td>0</td>\n",
       "      <td>0</td>\n",
       "      <td>0</td>\n",
       "    </tr>\n",
       "    <tr>\n",
       "      <th>4</th>\n",
       "      <td>1289</td>\n",
       "      <td>1306</td>\n",
       "      <td>498078</td>\n",
       "      <td>498335</td>\n",
       "      <td>2409</td>\n",
       "      <td>60</td>\n",
       "      <td>260</td>\n",
       "      <td>246930</td>\n",
       "      <td>37</td>\n",
       "      <td>126</td>\n",
       "      <td>...</td>\n",
       "      <td>0.9338</td>\n",
       "      <td>-0.1992</td>\n",
       "      <td>1.0000</td>\n",
       "      <td>1</td>\n",
       "      <td>0</td>\n",
       "      <td>0</td>\n",
       "      <td>0</td>\n",
       "      <td>0</td>\n",
       "      <td>0</td>\n",
       "      <td>0</td>\n",
       "    </tr>\n",
       "  </tbody>\n",
       "</table>\n",
       "<p>5 rows × 34 columns</p>\n",
       "</div>"
      ],
      "text/plain": [
       "   X_Minimum  X_Maximum  Y_Minimum  Y_Maximum  Pixels_Areas  X_Perimeter  \\\n",
       "0         42         50     270900     270944           267           17   \n",
       "1        645        651    2538079    2538108           108           10   \n",
       "2        829        835    1553913    1553931            71            8   \n",
       "3        853        860     369370     369415           176           13   \n",
       "4       1289       1306     498078     498335          2409           60   \n",
       "\n",
       "   Y_Perimeter  Sum_of_Luminosity  Minimum_of_Luminosity  \\\n",
       "0           44              24220                     76   \n",
       "1           30              11397                     84   \n",
       "2           19               7972                     99   \n",
       "3           45              18996                     99   \n",
       "4          260             246930                     37   \n",
       "\n",
       "   Maximum_of_Luminosity  ...  Log_Y_Index  Orientation_Index  \\\n",
       "0                    108  ...       0.8182            -0.2913   \n",
       "1                    123  ...       0.7931            -0.1756   \n",
       "2                    125  ...       0.6667            -0.1228   \n",
       "3                    126  ...       0.8444            -0.1568   \n",
       "4                    126  ...       0.9338            -0.1992   \n",
       "\n",
       "   Luminosity_Index  Pastry  Z_Scratch  K_Scratch  Stains  Dirtiness  Bumps  \\\n",
       "0            0.5822       1          0          0       0          0      0   \n",
       "1            0.2984       1          0          0       0          0      0   \n",
       "2            0.2150       1          0          0       0          0      0   \n",
       "3            0.5212       1          0          0       0          0      0   \n",
       "4            1.0000       1          0          0       0          0      0   \n",
       "\n",
       "   Other_Faults  \n",
       "0             0  \n",
       "1             0  \n",
       "2             0  \n",
       "3             0  \n",
       "4             0  \n",
       "\n",
       "[5 rows x 34 columns]"
      ]
     },
     "execution_count": 2,
     "metadata": {},
     "output_type": "execute_result"
    }
   ],
   "source": [
    "# load data\n",
    "Path = 'Assignment 9 dataset-Faults.nna'\n",
    "\n",
    "headernames = ['X_Minimum','X_Maximum','Y_Minimum','Y_Maximum','Pixels_Areas',\n",
    "               'X_Perimeter','Y_Perimeter','Sum_of_Luminosity','Minimum_of_Luminosity',\n",
    "               'Maximum_of_Luminosity','Length_of_Conveyer','TypeOfSteel_A300',\n",
    "               'TypeOfSteel_A400 27', 'SigmoidOfAreas','Steel_Plate_Thickness','Edges_Index',\n",
    "               'Empty_Index','Square_Index','Outside_X_Index','Edges_X_Index','Edges_Y_Index',\n",
    "               'Outside_Global_Index','LogOfAreas','Log_X_Index','Log_Y_Index',\n",
    "               'Orientation_Index','Luminosity_Index', 'Pastry','Z_Scratch','K_Scratch',\n",
    "               'Stains','Dirtiness','Bumps','Other_Faults']      \n",
    "\n",
    "df1 = pd.read_csv(Path, sep = '\\t',\n",
    "                  header = None, delimiter = None, names = headernames)\n",
    "\n",
    "# baseline dataframe\n",
    "df = pd.DataFrame(df1)\n",
    "\n",
    "df.head()"
   ]
  },
  {
   "cell_type": "code",
   "execution_count": 3,
   "id": "0c96ad3b-ade3-4a43-97f2-44e1b46c1269",
   "metadata": {},
   "outputs": [
    {
     "data": {
      "text/plain": [
       "(1941, 34)"
      ]
     },
     "execution_count": 3,
     "metadata": {},
     "output_type": "execute_result"
    }
   ],
   "source": [
    "df.shape"
   ]
  },
  {
   "cell_type": "markdown",
   "id": "28dd074c-b8ca-4b95-b4f5-c79de10a75eb",
   "metadata": {
    "tags": []
   },
   "source": [
    "### Baseline model"
   ]
  },
  {
   "cell_type": "code",
   "execution_count": 4,
   "id": "0f0e4175-2173-4b26-8142-59e8200daf5b",
   "metadata": {},
   "outputs": [],
   "source": [
    "X = df.drop(['Pastry','Z_Scratch','K_Scratch','Stains',\n",
    "             'Dirtiness','Bumps','Other_Faults'], axis=1)\n",
    "y = df[['Pastry','Z_Scratch','K_Scratch','Stains',\n",
    "        'Dirtiness','Bumps','Other_Faults']]"
   ]
  },
  {
   "cell_type": "code",
   "execution_count": 5,
   "id": "60505d44-14b8-46ec-a018-93dbf69936e1",
   "metadata": {},
   "outputs": [],
   "source": [
    "X = np.array(X)\n",
    "y = np.array(y)"
   ]
  },
  {
   "cell_type": "code",
   "execution_count": 6,
   "id": "377eb3ec-ce0e-4594-9bae-0a85de27ba18",
   "metadata": {},
   "outputs": [
    {
     "data": {
      "text/plain": [
       "<keras.callbacks.History at 0x7f8f1057fb50>"
      ]
     },
     "execution_count": 6,
     "metadata": {},
     "output_type": "execute_result"
    }
   ],
   "source": [
    "# Citing ChatGPT\n",
    "model = Sequential()\n",
    "model.add(Dense(10, input_dim=X.shape[1], \n",
    "                activation='relu'))\n",
    "\n",
    "model.add(Dense(7, activation='softmax'))\n",
    "\n",
    "model.compile(loss='categorical_crossentropy',\n",
    "              optimizer='adam', metrics=['accuracy'])\n",
    "\n",
    "model.fit(X, y, epochs=100, batch_size=50, verbose=0)\n"
   ]
  },
  {
   "cell_type": "code",
   "execution_count": 7,
   "id": "a697b39d-a7d8-41dc-ad7e-dd2232f0e7ce",
   "metadata": {},
   "outputs": [
    {
     "name": "stdout",
     "output_type": "stream",
     "text": [
      "Average accuracy rate over 100 epochs: 39.46%\n"
     ]
    }
   ],
   "source": [
    "model = Sequential()\n",
    "model.add(Dense(10, input_dim=X.shape[1], \n",
    "                activation='relu'))\n",
    "\n",
    "model.add(Dense(7, activation='softmax'))\n",
    "\n",
    "model.compile(loss='categorical_crossentropy', \n",
    "              optimizer='adam', metrics=['accuracy'])\n",
    "\n",
    "epochs = 100\n",
    "batch_size = 10\n",
    "history = model.fit(X, y, epochs=epochs, \n",
    "                    batch_size=batch_size, verbose=0)\n",
    "\n",
    "# calculate average accuracy rate over n epochs\n",
    "total_acc = 0.0\n",
    "for i in range(epochs):\n",
    "    loss, acc = model.evaluate(X, y, verbose=0)\n",
    "    total_acc += acc\n",
    "average_acc = total_acc / epochs\n",
    "\n",
    "print(\"Average accuracy rate over {} epochs: {:.2f}%\".format(\n",
    "    epochs, average_acc*100))"
   ]
  },
  {
   "cell_type": "markdown",
   "id": "0a0babad-4344-4c33-9388-5e17662e4577",
   "metadata": {
    "tags": []
   },
   "source": [
    "### Taking a look at the baseline sequential model's hidden layers"
   ]
  },
  {
   "cell_type": "code",
   "execution_count": 8,
   "id": "ece25283-8d0b-470f-a697-aca8d30b439a",
   "metadata": {},
   "outputs": [
    {
     "data": {
      "text/plain": [
       "<keras.layers.core.dense.Dense at 0x7f8f23b030d0>"
      ]
     },
     "execution_count": 8,
     "metadata": {},
     "output_type": "execute_result"
    }
   ],
   "source": [
    "hidden_layer = model.layers[0]\n",
    "\n",
    "hidden_layer"
   ]
  },
  {
   "cell_type": "code",
   "execution_count": 9,
   "id": "8ad1c9e1-2f11-47ab-9904-cde24d92e5fb",
   "metadata": {},
   "outputs": [],
   "source": [
    "weights = hidden_layer.get_weights()[0]"
   ]
  },
  {
   "cell_type": "markdown",
   "id": "248af19c-3df8-4ff2-ad4e-b871cdda4e06",
   "metadata": {},
   "source": [
    "#### These weights in the array above shows the weights and biases of my 26 dependent variables and 1 congomerate target variable (we are predicting one binary output to indicate if ANY ONE of the 7 dependent variable features (i.e. faults) will  be positive/=1) "
   ]
  },
  {
   "cell_type": "code",
   "execution_count": 10,
   "id": "6fe1de1f-b18d-43f3-bed8-5ae8d1731f32",
   "metadata": {},
   "outputs": [
    {
     "data": {
      "text/plain": [
       "array([-0.92889017,  0.        ,  0.        ,  0.47319397, -0.3183324 ,\n",
       "       -0.05619415, -0.22273423,  0.25702772,  0.        , -0.35606924],\n",
       "      dtype=float32)"
      ]
     },
     "execution_count": 10,
     "metadata": {},
     "output_type": "execute_result"
    }
   ],
   "source": [
    "biases = hidden_layer.get_weights()[1]\n",
    "biases"
   ]
  },
  {
   "cell_type": "markdown",
   "id": "1adee6bc-f152-45ec-8937-675262d94eb2",
   "metadata": {
    "tags": []
   },
   "source": [
    "### Baseline model summary and sample predictions"
   ]
  },
  {
   "cell_type": "code",
   "execution_count": 11,
   "id": "d8dc87ad-40ec-4422-8ba6-b1831d72d746",
   "metadata": {},
   "outputs": [
    {
     "name": "stdout",
     "output_type": "stream",
     "text": [
      "Model: \"sequential_1\"\n",
      "_________________________________________________________________\n",
      " Layer (type)                Output Shape              Param #   \n",
      "=================================================================\n",
      " dense_2 (Dense)             (None, 10)                280       \n",
      "                                                                 \n",
      " dense_3 (Dense)             (None, 7)                 77        \n",
      "                                                                 \n",
      "=================================================================\n",
      "Total params: 357\n",
      "Trainable params: 357\n",
      "Non-trainable params: 0\n",
      "_________________________________________________________________\n"
     ]
    }
   ],
   "source": [
    "model.summary()"
   ]
  },
  {
   "cell_type": "code",
   "execution_count": 12,
   "id": "fc25bd64-8217-476a-82ab-bca47b37b3d8",
   "metadata": {},
   "outputs": [
    {
     "name": "stdout",
     "output_type": "stream",
     "text": [
      "61/61 [==============================] - 0s 561us/step - loss: 1240.3792 - accuracy: 0.3946\n"
     ]
    }
   ],
   "source": [
    "loss, accuracy = model.evaluate(X, y)"
   ]
  },
  {
   "cell_type": "code",
   "execution_count": 13,
   "id": "8b5337f0-3d30-411a-a289-005f8c950866",
   "metadata": {},
   "outputs": [
    {
     "name": "stdout",
     "output_type": "stream",
     "text": [
      "61/61 [==============================] - 0s 485us/step\n"
     ]
    }
   ],
   "source": [
    "predictions = model.predict(X)"
   ]
  },
  {
   "cell_type": "code",
   "execution_count": 14,
   "id": "6746523c-082a-4956-a936-d0cad8833c19",
   "metadata": {},
   "outputs": [
    {
     "data": {
      "text/plain": [
       "array([[0, 1, 0, ..., 0, 0, 0],\n",
       "       [0, 0, 0, ..., 0, 1, 0],\n",
       "       [0, 0, 0, ..., 0, 1, 0],\n",
       "       ...,\n",
       "       [0, 0, 1, ..., 0, 0, 0],\n",
       "       [0, 0, 1, ..., 0, 0, 0],\n",
       "       [0, 0, 0, ..., 0, 0, 1]])"
      ]
     },
     "execution_count": 14,
     "metadata": {},
     "output_type": "execute_result"
    }
   ],
   "source": [
    "predictions.astype(int)"
   ]
  },
  {
   "cell_type": "code",
   "execution_count": 15,
   "id": "e1510bf1-2e14-4124-9f0b-a324ceb9b1ef",
   "metadata": {},
   "outputs": [
    {
     "name": "stdout",
     "output_type": "stream",
     "text": [
      "1941\n"
     ]
    }
   ],
   "source": [
    "print(len(predictions))"
   ]
  },
  {
   "cell_type": "markdown",
   "id": "a8556e23-667d-4f04-bb39-6d3a170924c4",
   "metadata": {},
   "source": [
    "### Reflections\n",
    "\n",
    "From the baseline model where I instantiated a Neural Netweork model via Keras in Python, it seems that for 100 epochs the average accuracy rate was approximately 35%.\n",
    "\n",
    "I might see significant or at least moderate improvement with some hyperparameter tuning--definitely want to make this model at least or more predictive than a coin toss!"
   ]
  },
  {
   "cell_type": "markdown",
   "id": "d3f34ce3-6550-43f0-b073-ce279b309813",
   "metadata": {
    "tags": []
   },
   "source": [
    "### Round 2 (hyperparameter tuning the baseline model)"
   ]
  },
  {
   "cell_type": "markdown",
   "id": "69f071ee-b85d-4a2e-8d54-c56fb2614f65",
   "metadata": {},
   "source": [
    "#### Model 2"
   ]
  },
  {
   "cell_type": "markdown",
   "id": "342a8003-a761-486f-849e-7b6a168f7ffe",
   "metadata": {
    "tags": []
   },
   "source": [
    "##### For model 2 I test the model with a train test split and only test 50 epochs or iterations to reach peak accuracy"
   ]
  },
  {
   "cell_type": "code",
   "execution_count": 16,
   "id": "db25611b-9cb3-44bd-a2b3-7c8964ad9afb",
   "metadata": {},
   "outputs": [],
   "source": [
    "X = df.drop(['Pastry','Z_Scratch','K_Scratch','Stains',\n",
    "             'Dirtiness','Bumps','Other_Faults'], axis=1)\n",
    "y = df[['Pastry','Z_Scratch','K_Scratch','Stains',\n",
    "        'Dirtiness','Bumps','Other_Faults']]"
   ]
  },
  {
   "cell_type": "code",
   "execution_count": 17,
   "id": "95e101c5-3e00-44a6-848b-608b46014ce4",
   "metadata": {},
   "outputs": [],
   "source": [
    "#X = X.values\n",
    "#y = y.values"
   ]
  },
  {
   "cell_type": "code",
   "execution_count": 18,
   "id": "46058a1d-c4fa-49a0-9492-749801d3ea7d",
   "metadata": {},
   "outputs": [],
   "source": [
    "X_train, X_test, y_train, y_test = train_test_split(\n",
    "    X, y, test_size=0.2, random_state=42)"
   ]
  },
  {
   "cell_type": "code",
   "execution_count": 19,
   "id": "63bc7700-3f47-4e99-b1f5-b97faef8c9cf",
   "metadata": {},
   "outputs": [],
   "source": [
    "### adding an additional dense layer to the neural network for model 2"
   ]
  },
  {
   "cell_type": "code",
   "execution_count": 20,
   "id": "fb56a8ef-465e-4a14-8094-6f4b1ec919de",
   "metadata": {},
   "outputs": [],
   "source": [
    "# Define the Keras Sequential model\n",
    "model2 = Sequential()\n",
    "model2.add(Dense(64, input_dim=27, activation='relu'))\n",
    "model2.add(Dense(32, activation='relu'))\n",
    "model2.add(Dense(7, activation='softmax'))"
   ]
  },
  {
   "cell_type": "code",
   "execution_count": 21,
   "id": "0876879e-0879-4f59-b761-8565a94990c1",
   "metadata": {},
   "outputs": [],
   "source": [
    "# Compile the model\n",
    "model2.compile(loss='categorical_crossentropy', optimizer='adam', metrics=['accuracy'])"
   ]
  },
  {
   "cell_type": "code",
   "execution_count": 22,
   "id": "076f3ff6-b8c2-4951-9a16-47fec54db62e",
   "metadata": {},
   "outputs": [],
   "source": [
    "# Train the model\n",
    "history = model2.fit(X_train, y_train, \n",
    "                     validation_data=(X_test, y_test), epochs=50, batch_size=64, verbose=0)"
   ]
  },
  {
   "cell_type": "code",
   "execution_count": 23,
   "id": "e275e11e-5871-4879-b132-0f5fb891e4df",
   "metadata": {},
   "outputs": [
    {
     "name": "stdout",
     "output_type": "stream",
     "text": [
      "49/49 [==============================] - 0s 564us/step - loss: 5093.3662 - accuracy: 0.2081\n"
     ]
    }
   ],
   "source": [
    "loss, accuracy = model2.evaluate(X_train, y_train)"
   ]
  },
  {
   "cell_type": "markdown",
   "id": "ea16bab5-1962-4cf9-99c9-d8c680a7e192",
   "metadata": {},
   "source": [
    "#### We see some improvement in accuracy with the addition of a second 'Dense' layer as well as a train/test split--45% accuracy for model 2"
   ]
  },
  {
   "cell_type": "markdown",
   "id": "88374bf3-3292-4d3a-9953-becc12b4c085",
   "metadata": {
    "tags": []
   },
   "source": [
    "#### Model 3"
   ]
  },
  {
   "cell_type": "markdown",
   "id": "13133af7-58ec-4343-9482-75c721424ff3",
   "metadata": {},
   "source": [
    "##### In model 3 I add validation data to the mix in addition to train/test split"
   ]
  },
  {
   "cell_type": "code",
   "execution_count": 24,
   "id": "d710831c-6984-402e-b514-e7812c5656a4",
   "metadata": {},
   "outputs": [
    {
     "name": "stdout",
     "output_type": "stream",
     "text": [
      "13/13 [==============================] - 0s 577us/step - loss: 232.0291 - accuracy: 0.4987\n",
      "Test accuracy: 0.4987146556377411\n"
     ]
    }
   ],
   "source": [
    "# Split the data into independent and dependent variables\n",
    "X = df.drop(['Pastry','Z_Scratch','K_Scratch','Stains',\n",
    "             'Dirtiness','Bumps','Other_Faults'], axis=1)\n",
    "y = df[['Pastry','Z_Scratch','K_Scratch','Stains',\n",
    "        'Dirtiness','Bumps','Other_Faults']]\n",
    "\n",
    "# Split the data into training, validation, and testing sets\n",
    "X_train, X_test, y_train, y_test = train_test_split(\n",
    "    X, y, test_size=0.2, random_state=42)\n",
    "X_train, X_val, y_train, y_val = train_test_split(\n",
    "    X_train, y_train, test_size=0.2, random_state=42)\n",
    "\n",
    "# Define the model\n",
    "model3 = Sequential()\n",
    "model3.add(Dense(64, input_dim=27, activation='relu'))\n",
    "model3.add(Dense(32, activation='relu'))\n",
    "model3.add(Dense(7, activation='softmax'))\n",
    "\n",
    "# Compile the model\n",
    "model3.compile(loss='binary_crossentropy', optimizer='adam', metrics=['accuracy'])\n",
    "\n",
    "# Train the model for 100 epochs\n",
    "history = model3.fit(X_train, y_train, epochs=100, \n",
    "                     batch_size=32, validation_data=(X_val, y_val), verbose=0)\n",
    "\n",
    "# Evaluate the model on the test set\n",
    "loss, accuracy = model3.evaluate(X_test, y_test)\n",
    "print('Test accuracy:', accuracy)"
   ]
  },
  {
   "cell_type": "markdown",
   "id": "7278f773-79e6-48de-956d-1696da7ea91f",
   "metadata": {},
   "source": [
    "#### With these hyperparameter tunings I have not positively impacted the accuracy of Model 3 compared to the previous models--I am at ~48% with model 3 compared to 35% from model 1 and 45% from model 2. For models 4/5 below, I will try scaling or standardizing the data to improve scores."
   ]
  },
  {
   "cell_type": "markdown",
   "id": "7464fb00-9a8c-4256-a4b8-c8854c1b4c0d",
   "metadata": {},
   "source": [
    "#### Model 4"
   ]
  },
  {
   "cell_type": "markdown",
   "id": "0f8b2c01-7321-41bf-8da5-138082bde0aa",
   "metadata": {},
   "source": [
    "For the next model I will introduce a StandardScaler() function to see if standardization helps the accuracy of the model."
   ]
  },
  {
   "cell_type": "code",
   "execution_count": 25,
   "id": "729f63ff-b1dd-4df1-bd74-9272fb7dd9f1",
   "metadata": {},
   "outputs": [],
   "source": [
    "# Split data into independent and dependent variables\n",
    "X = df.drop(['Pastry','Z_Scratch','K_Scratch','Stains',\n",
    "             'Dirtiness','Bumps','Other_Faults'], axis=1)\n",
    "y = df[['Pastry','Z_Scratch','K_Scratch','Stains',\n",
    "        'Dirtiness','Bumps','Other_Faults']]\n",
    "\n",
    "# Split data into training and testing sets\n",
    "X_train, X_test, y_train, y_test = train_test_split(\n",
    "    X, y, test_size=0.2, random_state=42)"
   ]
  },
  {
   "cell_type": "code",
   "execution_count": 26,
   "id": "ede6901a-f640-4d60-bf68-b152020d1449",
   "metadata": {},
   "outputs": [],
   "source": [
    "# convert to categorical data type\n",
    "#y = y.astype('category')\n",
    "\n",
    "# display the converted DataFrame\n",
    "#print(y.head())"
   ]
  },
  {
   "cell_type": "code",
   "execution_count": 27,
   "id": "dd989a37-f055-42f2-a98a-6df2b82b67f9",
   "metadata": {},
   "outputs": [],
   "source": [
    "# Scale independent variables\n",
    "scaler = StandardScaler()\n",
    "X_train_scaled = scaler.fit_transform(X_train)\n",
    "X_test_scaled = scaler.transform(X_test)"
   ]
  },
  {
   "cell_type": "code",
   "execution_count": 28,
   "id": "79da9e73-30bb-4cd5-bbec-a5cc07b1495d",
   "metadata": {},
   "outputs": [],
   "source": [
    "# Define the model architecture\n",
    "model4 = tf.keras.Sequential([\n",
    "    tf.keras.layers.Dense(64, activation='relu', input_shape=(27,)),\n",
    "    tf.keras.layers.Dense(32, activation='relu'),\n",
    "    tf.keras.layers.Dense(7, activation='softmax')\n",
    "])"
   ]
  },
  {
   "cell_type": "code",
   "execution_count": 29,
   "id": "b60b5cd0-7770-4add-9227-ffcddbe1cf23",
   "metadata": {},
   "outputs": [],
   "source": [
    "# Compile the model\n",
    "model4.compile(optimizer='adam',\n",
    "              loss='binary_crossentropy',\n",
    "              metrics=['accuracy', \n",
    "                       tf.keras.metrics.Precision(),\n",
    "                       tf.keras.metrics.Recall(), \n",
    "                       tf.keras.metrics.AUC(),\n",
    "                       tf.keras.metrics.FalsePositives(),\n",
    "                       tf.keras.metrics.FalseNegatives()])"
   ]
  },
  {
   "cell_type": "code",
   "execution_count": 30,
   "id": "9e56d5dd-865e-44a5-bebb-eac76091750e",
   "metadata": {},
   "outputs": [],
   "source": [
    "# Define a callback for early stopping\n",
    "early_stopping = tf.keras.callbacks.EarlyStopping(\n",
    "    monitor='val_loss', min_delta=0.001, \n",
    "    patience=5, restore_best_weights=True)"
   ]
  },
  {
   "cell_type": "code",
   "execution_count": 31,
   "id": "f1c711cc-ba3a-47bd-a8db-267879f71853",
   "metadata": {},
   "outputs": [],
   "source": [
    "X_val = X\n",
    "y_val = y"
   ]
  },
  {
   "cell_type": "code",
   "execution_count": 32,
   "id": "d6b96480-1844-4569-b04c-873afc86b62f",
   "metadata": {},
   "outputs": [
    {
     "name": "stdout",
     "output_type": "stream",
     "text": [
      "13/13 [==============================] - 0s 636us/step\n"
     ]
    }
   ],
   "source": [
    "y_pred2 = model4.predict(X_test_scaled)"
   ]
  },
  {
   "cell_type": "code",
   "execution_count": 33,
   "id": "76b69dc9-b144-43ce-b929-1dec5beb09bf",
   "metadata": {},
   "outputs": [],
   "source": [
    "# Train the model for 100 epochs\n",
    "history = model4.fit(X_train, y_train, epochs=100, batch_size=32,\n",
    "                     validation_data=(X_val, y_val), callbacks=[early_stopping], verbose=0)\n",
    "\n",
    "#history = model4.fit(X_train, y_train, epochs=100, batch_size=32,\n",
    "#                     validation_data=(X_val, y_val), verbose=0)"
   ]
  },
  {
   "cell_type": "code",
   "execution_count": 34,
   "id": "a228e991-e0c5-4990-a676-131f1ca0eb07",
   "metadata": {},
   "outputs": [],
   "source": [
    "# assuming y_pred contains the continuous predicted values\n",
    "y_pred_discrete = (y_pred2 > 0.5).astype(int)"
   ]
  },
  {
   "cell_type": "code",
   "execution_count": 35,
   "id": "f3e8a783-41a1-4c39-a149-8a53d4c3b5d4",
   "metadata": {},
   "outputs": [
    {
     "name": "stdout",
     "output_type": "stream",
     "text": [
      "13/13 - 0s - loss: 432.5134 - accuracy: 0.3085 - precision: 0.3085 - recall: 0.3085 - auc: 0.5975 - false_positives: 269.0000 - false_negatives: 269.0000 - 23ms/epoch - 2ms/step\n",
      "Test Accuracy: 30.85%\n",
      "Test Precision: 30.85%\n",
      "Test Recall: 30.85%\n",
      "Test F1-score: 0.00%\n",
      "Test AUC: 59.75%\n",
      "Test False Positives: 269.00%\n",
      "Test False Negatives: 269.00%\n"
     ]
    }
   ],
   "source": [
    "# Evaluate the model on the test set\n",
    "test_loss, test_acc, test_prec, test_rec, test_auc, test_fp, test_fn = model4.evaluate(X_test, y_test, verbose=2)\n",
    "\n",
    "test_f1 = f1_score(y_test, y_pred_discrete, average='weighted')\n",
    "\n",
    "print('Test Accuracy: {:.2f}%'.format(test_acc*100))\n",
    "print('Test Precision: {:.2f}%'.format(test_prec*100))\n",
    "print('Test Recall: {:.2f}%'.format(test_rec*100))\n",
    "print('Test F1-score: {:.2f}%'.format(test_f1*100))\n",
    "print('Test AUC: {:.2f}%'.format(test_auc*100))\n",
    "print('Test False Positives: {:.2f}%'.format(test_fp))\n",
    "print('Test False Negatives: {:.2f}%'.format(test_fn))\n"
   ]
  },
  {
   "cell_type": "markdown",
   "id": "ecd73a12-78f9-4833-8384-938c37fe8b26",
   "metadata": {},
   "source": [
    "##### Having implemented an early stopper function to only run a few epochs from this model, we are seeing an accuracy of about 42% for the first iterations of this neural network--for model 5 below, I remove this stopper and run another full 100 iterations."
   ]
  },
  {
   "cell_type": "markdown",
   "id": "6e571f3e-9622-446e-88a8-aa0bfd188e77",
   "metadata": {},
   "source": [
    "#### Model 5"
   ]
  },
  {
   "cell_type": "code",
   "execution_count": 36,
   "id": "74d06140-7dc4-4623-91ad-74323501f058",
   "metadata": {},
   "outputs": [],
   "source": [
    "# Split data into independent and dependent variables\n",
    "X = df.drop(['Pastry','Z_Scratch','K_Scratch','Stains',\n",
    "             'Dirtiness','Bumps','Other_Faults'], axis=1)\n",
    "y = df[['Pastry','Z_Scratch','K_Scratch','Stains',\n",
    "        'Dirtiness','Bumps','Other_Faults']]\n",
    "\n",
    "X = X.values\n",
    "y = y.values\n",
    "\n",
    "# convert to categorical data type\n",
    "#y = y.astype('category')\n",
    "\n",
    "# Split data into training and testing sets\n",
    "X_train, X_test, y_train, y_test = train_test_split(\n",
    "    X, y, test_size=0.2, random_state=42)"
   ]
  },
  {
   "cell_type": "code",
   "execution_count": 37,
   "id": "33db1e7e-6443-440e-a634-969911ac278a",
   "metadata": {},
   "outputs": [],
   "source": [
    "# Scale independent variables\n",
    "scaler = StandardScaler()\n",
    "X_train_scaled = scaler.fit_transform(X_train)\n",
    "X_test_scaled = scaler.transform(X_test)"
   ]
  },
  {
   "cell_type": "code",
   "execution_count": 38,
   "id": "9d60a090-fd4b-4b16-8df8-adf8be2d148e",
   "metadata": {},
   "outputs": [],
   "source": [
    "# Define the model\n",
    "model5 = tf.keras.models.Sequential([\n",
    "    tf.keras.layers.Dense(64, activation='relu', input_shape=(27,)),\n",
    "    tf.keras.layers.Dense(32, activation='relu'),\n",
    "    tf.keras.layers.Dense(7, activation='sigmoid')\n",
    "])"
   ]
  },
  {
   "cell_type": "code",
   "execution_count": 39,
   "id": "5744a510-5ab4-4d5c-9507-750c4b4ec61a",
   "metadata": {},
   "outputs": [],
   "source": [
    "# Compile the model\n",
    "model5.compile(optimizer='adam',\n",
    "              loss='binary_crossentropy',\n",
    "              metrics=['accuracy', tf.keras.metrics.Precision(), tf.keras.metrics.Recall()])"
   ]
  },
  {
   "cell_type": "code",
   "execution_count": 40,
   "id": "34eca426-3659-4b5c-b5a8-06e4291724a2",
   "metadata": {},
   "outputs": [
    {
     "data": {
      "text/plain": [
       "<keras.callbacks.History at 0x7f8f24285fa0>"
      ]
     },
     "execution_count": 40,
     "metadata": {},
     "output_type": "execute_result"
    }
   ],
   "source": [
    "# Train the model\n",
    "model5.fit(X_train_scaled, y_train, epochs=100, batch_size=32, verbose=0)"
   ]
  },
  {
   "cell_type": "code",
   "execution_count": 41,
   "id": "2c3944b4-be7a-4a12-9985-1d08103a80ca",
   "metadata": {},
   "outputs": [
    {
     "name": "stdout",
     "output_type": "stream",
     "text": [
      "13/13 [==============================] - 0s 764us/step - loss: 0.2013 - accuracy: 0.7275 - precision_1: 0.7555 - recall_1: 0.7069\n"
     ]
    },
    {
     "data": {
      "text/plain": [
       "[0.20126646757125854,\n",
       " 0.7275063991546631,\n",
       " 0.7554945349693298,\n",
       " 0.7069408893585205]"
      ]
     },
     "execution_count": 41,
     "metadata": {},
     "output_type": "execute_result"
    }
   ],
   "source": [
    "# Evaluate the model\n",
    "model5.evaluate(X_test_scaled, y_test)"
   ]
  },
  {
   "cell_type": "markdown",
   "id": "64e80dd5-7ac0-46f1-9ffe-65dbb5264ea7",
   "metadata": {
    "tags": []
   },
   "source": [
    "### Much better! Our model 5 training shows much better accuracies--showing a accuracy of about 76% with training data! \n",
    "\n",
    "\n",
    "### Let's take a look at test data performance:"
   ]
  },
  {
   "cell_type": "code",
   "execution_count": 42,
   "id": "3ed6e38e-7218-48f8-a166-0d3e5487dde0",
   "metadata": {},
   "outputs": [
    {
     "name": "stdout",
     "output_type": "stream",
     "text": [
      "13/13 [==============================] - 0s 597us/step\n"
     ]
    }
   ],
   "source": [
    "# Make predictions\n",
    "y_pred3 = model5.predict(X_test_scaled)"
   ]
  },
  {
   "cell_type": "code",
   "execution_count": 43,
   "id": "eaeeb59f-4a90-4819-958d-526877a4117b",
   "metadata": {},
   "outputs": [
    {
     "data": {
      "text/plain": [
       "array([[2.9327853e-07, 1.8601234e-09, 1.7135495e-05, ..., 4.1253553e-08,\n",
       "        9.2127335e-01, 4.8219234e-01],\n",
       "       [4.8437901e-06, 2.3064770e-09, 4.5268143e-13, ..., 2.5282605e-09,\n",
       "        6.2562213e-03, 9.9745673e-01],\n",
       "       [3.5196237e-02, 4.7836615e-08, 4.7267176e-06, ..., 2.3053879e-07,\n",
       "        4.2218730e-01, 6.1449629e-01],\n",
       "       ...,\n",
       "       [1.2496502e-12, 4.6090413e-06, 9.9400085e-01, ..., 4.7313359e-10,\n",
       "        7.1523414e-04, 3.3992443e-03],\n",
       "       [4.0322939e-10, 1.0308786e-06, 9.9173522e-01, ..., 1.9959829e-09,\n",
       "        3.2343497e-04, 2.2200551e-03],\n",
       "       [6.1964649e-01, 8.2076265e-04, 7.3304103e-04, ..., 5.2752048e-02,\n",
       "        1.4742406e-03, 2.0708443e-01]], dtype=float32)"
      ]
     },
     "execution_count": 43,
     "metadata": {},
     "output_type": "execute_result"
    }
   ],
   "source": [
    "y_pred3"
   ]
  },
  {
   "cell_type": "code",
   "execution_count": 44,
   "id": "b003fc15-1079-4ef4-9531-b2ee5ff1b21e",
   "metadata": {},
   "outputs": [
    {
     "name": "stdout",
     "output_type": "stream",
     "text": [
      "Average accuracy over 100 epochs: 0.9439819574356079\n"
     ]
    }
   ],
   "source": [
    "# train the model for 100 epochs\n",
    "n_epochs = 100\n",
    "acc = np.zeros(n_epochs)\n",
    "for i in range(n_epochs):\n",
    "    history = model5.fit(X_train_scaled, y_train, epochs=1,\n",
    "                         validation_data=(X_test, y_test), verbose=0)\n",
    "    acc[i] = history.history['accuracy'][0]\n",
    "\n",
    "# compute the average accuracy across all epochs\n",
    "avg_acc = np.mean(acc)\n",
    "print(\"Average accuracy over 100 epochs:\", avg_acc)"
   ]
  },
  {
   "cell_type": "markdown",
   "id": "fedb2f2e-3bc7-4ef6-b246-47ecfec1bedc",
   "metadata": {},
   "source": [
    "### In this exercise, we changed hyperparameters for the neural network in several ways as well as implemented standardization procedures to improve accuracy from ~35% in model 1 to 95% with model 5 over 100 epochs (rounds) of iteration"
   ]
  },
  {
   "cell_type": "markdown",
   "id": "29397d69-9713-4292-b033-69b43f7fa5a6",
   "metadata": {
    "jp-MarkdownHeadingCollapsed": true,
    "tags": []
   },
   "source": [
    "### References\n",
    "\n",
    "OpenAI. (2021). ChatGPT. OpenAI. https://openai.com/api-docs/models/gpt-3/ (Accessed on February 27, 2023).\n",
    "> Use cases: asked GPT on creating a Neural Network model using Keras in python after an example I used did not work--needed to implement additional hyperparameter tuning to Sequential() model"
   ]
  }
 ],
 "metadata": {
  "kernelspec": {
   "display_name": "Python 3 (ipykernel)",
   "language": "python",
   "name": "python3"
  },
  "language_info": {
   "codemirror_mode": {
    "name": "ipython",
    "version": 3
   },
   "file_extension": ".py",
   "mimetype": "text/x-python",
   "name": "python",
   "nbconvert_exporter": "python",
   "pygments_lexer": "ipython3",
   "version": "3.9.16"
  }
 },
 "nbformat": 4,
 "nbformat_minor": 5
}
